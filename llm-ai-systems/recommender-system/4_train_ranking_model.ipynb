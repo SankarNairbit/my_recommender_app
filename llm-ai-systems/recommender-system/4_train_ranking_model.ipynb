{
 "cells": [
  {
   "cell_type": "markdown",
   "metadata": {},
   "source": [
    "## <span style=\"color:#ff5f27\">👨🏻‍🏫 Train Ranking Model </span>\n",
    "\n",
    "In this notebook, you will train a ranking model using gradient boosted trees. "
   ]
  },
  {
   "cell_type": "code",
   "execution_count": 1,
   "metadata": {},
   "outputs": [],
   "source": [
    "import time\n",
    "\n",
    "# Start the timer\n",
    "notebook_start_time = time.time()"
   ]
  },
  {
   "cell_type": "markdown",
   "metadata": {},
   "source": [
    "## <span style=\"color:#ff5f27\">📝 Imports </span>"
   ]
  },
  {
   "cell_type": "code",
   "execution_count": 2,
   "metadata": {},
   "outputs": [],
   "source": [
    "import pandas as pd\n",
    "from catboost import CatBoostClassifier, Pool\n",
    "from sklearn.metrics import classification_report, precision_recall_fscore_support\n",
    "import joblib"
   ]
  },
  {
   "cell_type": "markdown",
   "metadata": {},
   "source": [
    "## <span style=\"color:#ff5f27\">🔮 Connect to Hopsworks Feature Store </span>"
   ]
  },
  {
   "cell_type": "code",
   "execution_count": 3,
   "metadata": {},
   "outputs": [
    {
     "name": "stderr",
     "output_type": "stream",
     "text": [
      "c:\\Users\\A90000265\\AppData\\Local\\Programs\\Python\\Python311\\Lib\\site-packages\\tqdm\\auto.py:21: TqdmWarning: IProgress not found. Please update jupyter and ipywidgets. See https://ipywidgets.readthedocs.io/en/stable/user_install.html\n",
      "  from .autonotebook import tqdm as notebook_tqdm\n"
     ]
    },
    {
     "name": "stdout",
     "output_type": "stream",
     "text": [
      "2025-03-15 22:06:03,991 INFO: Initializing external client\n",
      "2025-03-15 22:06:03,996 INFO: Base URL: https://c.app.hopsworks.ai:443\n",
      "2025-03-15 22:06:06,873 INFO: Python Engine initialized.\n",
      "\n",
      "Logged in to project, explore it here https://c.app.hopsworks.ai:443/p/1218722\n"
     ]
    }
   ],
   "source": [
    "import hopsworks\n",
    "\n",
    "project = hopsworks.login(api_key_value = \"Dkez37cDPamSnJUf.HDsceFNWsdWX9blAXWtJxcez9tYRKw6eDYN2TQ5AbNjr9lrQKlMLB7nAZ2wgGBQd\")\n",
    "\n",
    "fs = project.get_feature_store()"
   ]
  },
  {
   "cell_type": "code",
   "execution_count": 4,
   "metadata": {},
   "outputs": [],
   "source": [
    "customers_fg = fs.get_feature_group(\n",
    "    name=\"customers\",\n",
    "    version=1,\n",
    ")\n",
    "\n",
    "articles_fg = fs.get_feature_group(\n",
    "    name=\"articles\",\n",
    "    version=1,\n",
    ")\n",
    "\n",
    "trans_fg = fs.get_feature_group(\n",
    "    name=\"transactions\",\n",
    "    version=1,\n",
    ")\n",
    "\n",
    "interactions_fg = fs.get_feature_group(\n",
    "    name=\"interactions\",\n",
    "    version=1,\n",
    ")\n",
    "\n",
    "rank_fg = fs.get_feature_group(\n",
    "    name=\"ranking\",\n",
    "    version=1,\n",
    ")"
   ]
  },
  {
   "cell_type": "markdown",
   "metadata": {},
   "source": [
    "## <span style=\"color:#ff5f27\">⚙️ Feature View Creation </span>"
   ]
  },
  {
   "cell_type": "code",
   "execution_count": 5,
   "metadata": {},
   "outputs": [
    {
     "name": "stdout",
     "output_type": "stream",
     "text": [
      "Feature view created successfully, explore it at \n",
      "https://c.app.hopsworks.ai:443/p/1218722/fs/1206352/fv/customers/version/1\n"
     ]
    },
    {
     "data": {
      "text/plain": [
       "<hsfs.feature_view.FeatureView at 0x1fe2b208310>"
      ]
     },
     "execution_count": 5,
     "metadata": {},
     "output_type": "execute_result"
    }
   ],
   "source": [
    "# Select features\n",
    "selected_features_customers = customers_fg.select_all()\n",
    "\n",
    "fs.get_or_create_feature_view( \n",
    "    name='customers',\n",
    "    query=selected_features_customers,\n",
    "    version=1,\n",
    ")"
   ]
  },
  {
   "cell_type": "code",
   "execution_count": 6,
   "metadata": {},
   "outputs": [
    {
     "name": "stdout",
     "output_type": "stream",
     "text": [
      "Feature view created successfully, explore it at \n",
      "https://c.app.hopsworks.ai:443/p/1218722/fs/1206352/fv/articles/version/1\n"
     ]
    },
    {
     "data": {
      "text/plain": [
       "<hsfs.feature_view.FeatureView at 0x1fe2b228790>"
      ]
     },
     "execution_count": 6,
     "metadata": {},
     "output_type": "execute_result"
    }
   ],
   "source": [
    "# Select features\n",
    "selected_features_articles = articles_fg.select_except(['embeddings']) \n",
    "\n",
    "fs.get_or_create_feature_view(\n",
    "    name='articles',\n",
    "    query=selected_features_articles,\n",
    "    version=1,\n",
    ")"
   ]
  },
  {
   "cell_type": "code",
   "execution_count": 7,
   "metadata": {},
   "outputs": [
    {
     "name": "stdout",
     "output_type": "stream",
     "text": [
      "Feature view created successfully, explore it at \n",
      "https://c.app.hopsworks.ai:443/p/1218722/fs/1206352/fv/llm_assistant_context/version/1\n"
     ]
    }
   ],
   "source": [
    "selected_features_llm_assistant = trans_fg.select([\n",
    "    \"customer_id\",\n",
    "    \"t_dat\",\n",
    "    \"price\",\n",
    "    \"sales_channel_id\",\n",
    "    \"year\",\n",
    "    \"month\",\n",
    "    \"day\",\n",
    "    \"day_of_week\",\n",
    "]).join(\n",
    "    customers_fg.select([\n",
    "        \"club_member_status\",\n",
    "        \"age\",\n",
    "        \"age_group\",\n",
    "    ]), \n",
    "    on=\"customer_id\", \n",
    "    prefix=\"customer_\",\n",
    ").join(\n",
    "    articles_fg.select([\n",
    "        \"prod_name\",\n",
    "        \"product_type_name\",\n",
    "        \"product_group_name\",\n",
    "        \"graphical_appearance_name\",\n",
    "        \"colour_group_name\",\n",
    "        \"section_name\",\n",
    "        \"garment_group_name\",\n",
    "        \"article_description\",\n",
    "    ]), \n",
    "    on=\"article_id\", \n",
    "    prefix=\"article_\",\n",
    ").join(\n",
    "    interactions_fg.select([\n",
    "        \"interaction_score\",\n",
    "]),\n",
    "    on=[\"customer_id\", \"article_id\"],\n",
    "    prefix=\"interaction_\",\n",
    ")\n",
    "\n",
    "# Create the feature view\n",
    "llm_assistant_feature_view = fs.get_or_create_feature_view(\n",
    "    name='llm_assistant_context',\n",
    "    query=selected_features_llm_assistant,\n",
    "    version=1\n",
    ")"
   ]
  },
  {
   "cell_type": "code",
   "execution_count": 8,
   "metadata": {},
   "outputs": [
    {
     "name": "stdout",
     "output_type": "stream",
     "text": [
      "Feature view created successfully, explore it at \n",
      "https://c.app.hopsworks.ai:443/p/1218722/fs/1206352/fv/ranking/version/1\n"
     ]
    }
   ],
   "source": [
    "# Select features\n",
    "selected_features_ranking = rank_fg.select_except([\"customer_id\", \"article_id\"]).join(\n",
    "    trans_fg.select([\"month_sin\", \"month_cos\"]), \n",
    "    prefix=\"trans_\",\n",
    ")\n",
    "\n",
    "feature_view_ranking = fs.get_or_create_feature_view(\n",
    "    name='ranking',\n",
    "    query=selected_features_ranking,\n",
    "    labels=[\"label\"],\n",
    "    version=1,\n",
    ")"
   ]
  },
  {
   "cell_type": "markdown",
   "metadata": {},
   "source": [
    "## <span style=\"color:#ff5f27\">🗄️ Train Data loading </span>"
   ]
  },
  {
   "cell_type": "code",
   "execution_count": 9,
   "metadata": {},
   "outputs": [
    {
     "name": "stdout",
     "output_type": "stream",
     "text": [
      "Finished: Reading data from Hopsworks, using Hopsworks Feature Query Service (5.58s) \n"
     ]
    },
    {
     "name": "stderr",
     "output_type": "stream",
     "text": [
      "VersionWarning: Incremented version to `1`.\n"
     ]
    },
    {
     "data": {
      "text/html": [
       "<div>\n",
       "<style scoped>\n",
       "    .dataframe tbody tr th:only-of-type {\n",
       "        vertical-align: middle;\n",
       "    }\n",
       "\n",
       "    .dataframe tbody tr th {\n",
       "        vertical-align: top;\n",
       "    }\n",
       "\n",
       "    .dataframe thead th {\n",
       "        text-align: right;\n",
       "    }\n",
       "</style>\n",
       "<table border=\"1\" class=\"dataframe\">\n",
       "  <thead>\n",
       "    <tr style=\"text-align: right;\">\n",
       "      <th></th>\n",
       "      <th>age</th>\n",
       "      <th>product_type_name</th>\n",
       "      <th>product_group_name</th>\n",
       "      <th>graphical_appearance_name</th>\n",
       "      <th>colour_group_name</th>\n",
       "      <th>perceived_colour_value_name</th>\n",
       "      <th>perceived_colour_master_name</th>\n",
       "      <th>department_name</th>\n",
       "      <th>index_name</th>\n",
       "      <th>index_group_name</th>\n",
       "      <th>section_name</th>\n",
       "      <th>garment_group_name</th>\n",
       "      <th>trans_month_sin</th>\n",
       "      <th>trans_month_cos</th>\n",
       "    </tr>\n",
       "  </thead>\n",
       "  <tbody>\n",
       "    <tr>\n",
       "      <th>0</th>\n",
       "      <td>31.0</td>\n",
       "      <td>Bra</td>\n",
       "      <td>Underwear</td>\n",
       "      <td>Melange</td>\n",
       "      <td>Dark Grey</td>\n",
       "      <td>Dark</td>\n",
       "      <td>Grey</td>\n",
       "      <td>Mama Lingerie</td>\n",
       "      <td>Lingeries/Tights</td>\n",
       "      <td>Ladieswear</td>\n",
       "      <td>Womens Lingerie</td>\n",
       "      <td>Under-, Nightwear</td>\n",
       "      <td>0.5</td>\n",
       "      <td>-8.660254e-01</td>\n",
       "    </tr>\n",
       "    <tr>\n",
       "      <th>1</th>\n",
       "      <td>22.0</td>\n",
       "      <td>Trousers</td>\n",
       "      <td>Garment Lower body</td>\n",
       "      <td>Denim</td>\n",
       "      <td>Light Blue</td>\n",
       "      <td>Dusty Light</td>\n",
       "      <td>Blue</td>\n",
       "      <td>Denim Trousers</td>\n",
       "      <td>Divided</td>\n",
       "      <td>Divided</td>\n",
       "      <td>Ladies Denim</td>\n",
       "      <td>Trousers Denim</td>\n",
       "      <td>1.0</td>\n",
       "      <td>6.123234e-17</td>\n",
       "    </tr>\n",
       "    <tr>\n",
       "      <th>2</th>\n",
       "      <td>67.0</td>\n",
       "      <td>Top</td>\n",
       "      <td>Garment Upper body</td>\n",
       "      <td>Solid</td>\n",
       "      <td>Light Beige</td>\n",
       "      <td>Dusty Light</td>\n",
       "      <td>Beige</td>\n",
       "      <td>Jersey fancy</td>\n",
       "      <td>Ladieswear</td>\n",
       "      <td>Ladieswear</td>\n",
       "      <td>Womens Everyday Collection</td>\n",
       "      <td>Jersey Fancy</td>\n",
       "      <td>-1.0</td>\n",
       "      <td>-1.836970e-16</td>\n",
       "    </tr>\n",
       "  </tbody>\n",
       "</table>\n",
       "</div>"
      ],
      "text/plain": [
       "    age product_type_name  product_group_name graphical_appearance_name  \\\n",
       "0  31.0               Bra           Underwear                   Melange   \n",
       "1  22.0          Trousers  Garment Lower body                     Denim   \n",
       "2  67.0               Top  Garment Upper body                     Solid   \n",
       "\n",
       "  colour_group_name perceived_colour_value_name perceived_colour_master_name  \\\n",
       "0         Dark Grey                        Dark                         Grey   \n",
       "1        Light Blue                 Dusty Light                         Blue   \n",
       "2       Light Beige                 Dusty Light                        Beige   \n",
       "\n",
       "  department_name        index_name index_group_name  \\\n",
       "0   Mama Lingerie  Lingeries/Tights       Ladieswear   \n",
       "1  Denim Trousers           Divided          Divided   \n",
       "2    Jersey fancy        Ladieswear       Ladieswear   \n",
       "\n",
       "                 section_name garment_group_name  trans_month_sin  \\\n",
       "0             Womens Lingerie  Under-, Nightwear              0.5   \n",
       "1                Ladies Denim     Trousers Denim              1.0   \n",
       "2  Womens Everyday Collection       Jersey Fancy             -1.0   \n",
       "\n",
       "   trans_month_cos  \n",
       "0    -8.660254e-01  \n",
       "1     6.123234e-17  \n",
       "2    -1.836970e-16  "
      ]
     },
     "execution_count": 9,
     "metadata": {},
     "output_type": "execute_result"
    }
   ],
   "source": [
    "X_train, X_val, y_train, y_val = feature_view_ranking.train_test_split(\n",
    "    test_size=0.1,\n",
    "    description='Ranking training dataset',\n",
    ")\n",
    "\n",
    "X_train.head(3)"
   ]
  },
  {
   "cell_type": "code",
   "execution_count": 10,
   "metadata": {},
   "outputs": [
    {
     "data": {
      "text/html": [
       "<div>\n",
       "<style scoped>\n",
       "    .dataframe tbody tr th:only-of-type {\n",
       "        vertical-align: middle;\n",
       "    }\n",
       "\n",
       "    .dataframe tbody tr th {\n",
       "        vertical-align: top;\n",
       "    }\n",
       "\n",
       "    .dataframe thead th {\n",
       "        text-align: right;\n",
       "    }\n",
       "</style>\n",
       "<table border=\"1\" class=\"dataframe\">\n",
       "  <thead>\n",
       "    <tr style=\"text-align: right;\">\n",
       "      <th></th>\n",
       "      <th>label</th>\n",
       "    </tr>\n",
       "  </thead>\n",
       "  <tbody>\n",
       "    <tr>\n",
       "      <th>0</th>\n",
       "      <td>1</td>\n",
       "    </tr>\n",
       "    <tr>\n",
       "      <th>1</th>\n",
       "      <td>1</td>\n",
       "    </tr>\n",
       "    <tr>\n",
       "      <th>2</th>\n",
       "      <td>0</td>\n",
       "    </tr>\n",
       "  </tbody>\n",
       "</table>\n",
       "</div>"
      ],
      "text/plain": [
       "   label\n",
       "0      1\n",
       "1      1\n",
       "2      0"
      ]
     },
     "execution_count": 10,
     "metadata": {},
     "output_type": "execute_result"
    }
   ],
   "source": [
    "y_train.head(3)"
   ]
  },
  {
   "cell_type": "markdown",
   "metadata": {},
   "source": [
    "## <span style=\"color:#ff5f27\">🏃🏻‍♂️ Model Training </span>\n",
    "\n",
    "Let's train a model."
   ]
  },
  {
   "cell_type": "code",
   "execution_count": 11,
   "metadata": {
    "tags": []
   },
   "outputs": [
    {
     "name": "stdout",
     "output_type": "stream",
     "text": [
      "0:\tlearn: 0.5151511\ttest: 0.5148830\tbest: 0.5148830 (0)\ttotal: 520ms\tremaining: 51.5s\n",
      "1:\tlearn: 0.3955101\ttest: 0.3950133\tbest: 0.3950133 (1)\ttotal: 665ms\tremaining: 32.6s\n",
      "2:\tlearn: 0.3099050\ttest: 0.3092096\tbest: 0.3092096 (2)\ttotal: 1.1s\tremaining: 35.5s\n",
      "3:\tlearn: 0.2462480\ttest: 0.2453690\tbest: 0.2453690 (3)\ttotal: 1.3s\tremaining: 31.3s\n",
      "4:\tlearn: 0.1978071\ttest: 0.1967568\tbest: 0.1967568 (4)\ttotal: 1.45s\tremaining: 27.5s\n",
      "5:\tlearn: 0.1603387\ttest: 0.1591268\tbest: 0.1591268 (5)\ttotal: 1.54s\tremaining: 24.2s\n",
      "6:\tlearn: 0.1310290\ttest: 0.1296631\tbest: 0.1296631 (6)\ttotal: 1.69s\tremaining: 22.5s\n",
      "7:\tlearn: 0.1079138\ttest: 0.1063998\tbest: 0.1063998 (7)\ttotal: 1.78s\tremaining: 20.5s\n",
      "8:\tlearn: 0.0895764\ttest: 0.0879182\tbest: 0.0879182 (8)\ttotal: 1.92s\tremaining: 19.4s\n",
      "9:\tlearn: 0.0749775\ttest: 0.0731808\tbest: 0.0731808 (9)\ttotal: 2.21s\tremaining: 19.9s\n",
      "10:\tlearn: 0.0633187\ttest: 0.0613885\tbest: 0.0613885 (10)\ttotal: 2.39s\tremaining: 19.4s\n",
      "11:\tlearn: 0.0539871\ttest: 0.0519289\tbest: 0.0519289 (11)\ttotal: 2.62s\tremaining: 19.2s\n",
      "12:\tlearn: 0.0465123\ttest: 0.0443294\tbest: 0.0443294 (12)\ttotal: 2.82s\tremaining: 18.9s\n",
      "13:\tlearn: 0.0405137\ttest: 0.0382089\tbest: 0.0382089 (13)\ttotal: 2.92s\tremaining: 17.9s\n",
      "14:\tlearn: 0.0357173\ttest: 0.0332960\tbest: 0.0332960 (14)\ttotal: 3.12s\tremaining: 17.7s\n",
      "15:\tlearn: 0.0318800\ttest: 0.0293466\tbest: 0.0293466 (15)\ttotal: 3.33s\tremaining: 17.5s\n",
      "16:\tlearn: 0.0288237\ttest: 0.0261843\tbest: 0.0261843 (16)\ttotal: 3.53s\tremaining: 17.2s\n",
      "17:\tlearn: 0.0263985\ttest: 0.0236589\tbest: 0.0236589 (17)\ttotal: 3.79s\tremaining: 17.3s\n",
      "18:\tlearn: 0.0244516\ttest: 0.0216165\tbest: 0.0216165 (18)\ttotal: 3.9s\tremaining: 16.6s\n",
      "19:\tlearn: 0.0229145\ttest: 0.0199954\tbest: 0.0199954 (19)\ttotal: 4.3s\tremaining: 17.2s\n",
      "20:\tlearn: 0.0216927\ttest: 0.0186925\tbest: 0.0186925 (20)\ttotal: 4.47s\tremaining: 16.8s\n",
      "21:\tlearn: 0.0207255\ttest: 0.0176501\tbest: 0.0176501 (21)\ttotal: 4.57s\tremaining: 16.2s\n",
      "22:\tlearn: 0.0199622\ttest: 0.0168192\tbest: 0.0168192 (22)\ttotal: 4.73s\tremaining: 15.8s\n",
      "23:\tlearn: 0.0193614\ttest: 0.0161590\tbest: 0.0161590 (23)\ttotal: 5.11s\tremaining: 16.2s\n",
      "24:\tlearn: 0.0188904\ttest: 0.0156353\tbest: 0.0156353 (24)\ttotal: 5.47s\tremaining: 16.4s\n",
      "25:\tlearn: 0.0185151\ttest: 0.0152141\tbest: 0.0152141 (25)\ttotal: 5.59s\tremaining: 15.9s\n",
      "26:\tlearn: 0.0182193\ttest: 0.0148794\tbest: 0.0148794 (26)\ttotal: 5.75s\tremaining: 15.5s\n",
      "27:\tlearn: 0.0179839\ttest: 0.0146100\tbest: 0.0146100 (27)\ttotal: 5.98s\tremaining: 15.4s\n",
      "28:\tlearn: 0.0177955\ttest: 0.0143963\tbest: 0.0143963 (28)\ttotal: 6.32s\tremaining: 15.5s\n",
      "29:\tlearn: 0.0176465\ttest: 0.0142238\tbest: 0.0142238 (29)\ttotal: 6.5s\tremaining: 15.2s\n",
      "30:\tlearn: 0.0175744\ttest: 0.0141340\tbest: 0.0141340 (30)\ttotal: 6.62s\tremaining: 14.7s\n",
      "31:\tlearn: 0.0174689\ttest: 0.0140134\tbest: 0.0140134 (31)\ttotal: 6.84s\tremaining: 14.5s\n",
      "32:\tlearn: 0.0173857\ttest: 0.0139156\tbest: 0.0139156 (32)\ttotal: 7.07s\tremaining: 14.4s\n",
      "33:\tlearn: 0.0173225\ttest: 0.0138474\tbest: 0.0138474 (33)\ttotal: 7.53s\tremaining: 14.6s\n",
      "34:\tlearn: 0.0172643\ttest: 0.0137795\tbest: 0.0137795 (34)\ttotal: 7.83s\tremaining: 14.5s\n",
      "35:\tlearn: 0.0172174\ttest: 0.0137258\tbest: 0.0137258 (35)\ttotal: 8.02s\tremaining: 14.3s\n",
      "36:\tlearn: 0.0171798\ttest: 0.0136811\tbest: 0.0136811 (36)\ttotal: 8.2s\tremaining: 14s\n",
      "37:\tlearn: 0.0171791\ttest: 0.0136832\tbest: 0.0136811 (36)\ttotal: 8.38s\tremaining: 13.7s\n",
      "38:\tlearn: 0.0171710\ttest: 0.0136713\tbest: 0.0136713 (38)\ttotal: 8.7s\tremaining: 13.6s\n",
      "39:\tlearn: 0.0171708\ttest: 0.0136731\tbest: 0.0136713 (38)\ttotal: 8.88s\tremaining: 13.3s\n",
      "40:\tlearn: 0.0171690\ttest: 0.0136732\tbest: 0.0136713 (38)\ttotal: 9.04s\tremaining: 13s\n",
      "41:\tlearn: 0.0171395\ttest: 0.0136374\tbest: 0.0136374 (41)\ttotal: 9.24s\tremaining: 12.8s\n",
      "42:\tlearn: 0.0171127\ttest: 0.0136060\tbest: 0.0136060 (42)\ttotal: 9.56s\tremaining: 12.7s\n",
      "43:\tlearn: 0.0171125\ttest: 0.0136069\tbest: 0.0136060 (42)\ttotal: 9.67s\tremaining: 12.3s\n",
      "44:\tlearn: 0.0171114\ttest: 0.0136040\tbest: 0.0136040 (44)\ttotal: 9.81s\tremaining: 12s\n",
      "45:\tlearn: 0.0170875\ttest: 0.0135787\tbest: 0.0135787 (45)\ttotal: 10.1s\tremaining: 11.9s\n",
      "46:\tlearn: 0.0170856\ttest: 0.0135803\tbest: 0.0135787 (45)\ttotal: 10.5s\tremaining: 11.9s\n",
      "47:\tlearn: 0.0170856\ttest: 0.0135811\tbest: 0.0135787 (45)\ttotal: 10.6s\tremaining: 11.5s\n",
      "48:\tlearn: 0.0170646\ttest: 0.0135579\tbest: 0.0135579 (48)\ttotal: 10.9s\tremaining: 11.4s\n",
      "49:\tlearn: 0.0170474\ttest: 0.0135367\tbest: 0.0135367 (49)\ttotal: 11.1s\tremaining: 11.1s\n",
      "50:\tlearn: 0.0170466\ttest: 0.0135381\tbest: 0.0135367 (49)\ttotal: 11.4s\tremaining: 10.9s\n",
      "51:\tlearn: 0.0170446\ttest: 0.0135387\tbest: 0.0135367 (49)\ttotal: 11.5s\tremaining: 10.7s\n",
      "52:\tlearn: 0.0170443\ttest: 0.0135386\tbest: 0.0135367 (49)\ttotal: 11.8s\tremaining: 10.5s\n",
      "53:\tlearn: 0.0170425\ttest: 0.0135345\tbest: 0.0135345 (53)\ttotal: 11.9s\tremaining: 10.1s\n",
      "54:\tlearn: 0.0170289\ttest: 0.0135172\tbest: 0.0135172 (54)\ttotal: 12s\tremaining: 9.84s\n",
      "55:\tlearn: 0.0170284\ttest: 0.0135170\tbest: 0.0135170 (55)\ttotal: 12.3s\tremaining: 9.68s\n",
      "56:\tlearn: 0.0170283\ttest: 0.0135174\tbest: 0.0135170 (55)\ttotal: 12.5s\tremaining: 9.39s\n",
      "57:\tlearn: 0.0170190\ttest: 0.0135053\tbest: 0.0135053 (57)\ttotal: 12.7s\tremaining: 9.19s\n",
      "58:\tlearn: 0.0170184\ttest: 0.0135064\tbest: 0.0135053 (57)\ttotal: 12.9s\tremaining: 8.98s\n",
      "59:\tlearn: 0.0170167\ttest: 0.0135057\tbest: 0.0135053 (57)\ttotal: 13.1s\tremaining: 8.76s\n",
      "60:\tlearn: 0.0170163\ttest: 0.0135049\tbest: 0.0135049 (60)\ttotal: 13.3s\tremaining: 8.51s\n",
      "61:\tlearn: 0.0170102\ttest: 0.0135002\tbest: 0.0135002 (61)\ttotal: 13.5s\tremaining: 8.3s\n",
      "62:\tlearn: 0.0169958\ttest: 0.0135027\tbest: 0.0135002 (61)\ttotal: 13.9s\tremaining: 8.16s\n",
      "63:\tlearn: 0.0169933\ttest: 0.0135035\tbest: 0.0135002 (61)\ttotal: 14.2s\tremaining: 8s\n",
      "64:\tlearn: 0.0169932\ttest: 0.0135037\tbest: 0.0135002 (61)\ttotal: 14.4s\tremaining: 7.74s\n",
      "65:\tlearn: 0.0169790\ttest: 0.0134908\tbest: 0.0134908 (65)\ttotal: 14.7s\tremaining: 7.58s\n",
      "66:\tlearn: 0.0169765\ttest: 0.0134893\tbest: 0.0134893 (66)\ttotal: 15s\tremaining: 7.4s\n",
      "67:\tlearn: 0.0169764\ttest: 0.0134898\tbest: 0.0134893 (66)\ttotal: 15.2s\tremaining: 7.14s\n",
      "68:\tlearn: 0.0169737\ttest: 0.0134901\tbest: 0.0134893 (66)\ttotal: 15.3s\tremaining: 6.89s\n",
      "69:\tlearn: 0.0169699\ttest: 0.0134835\tbest: 0.0134835 (69)\ttotal: 15.5s\tremaining: 6.65s\n",
      "70:\tlearn: 0.0169699\ttest: 0.0134838\tbest: 0.0134835 (69)\ttotal: 15.7s\tremaining: 6.42s\n",
      "71:\tlearn: 0.0169698\ttest: 0.0134840\tbest: 0.0134835 (69)\ttotal: 15.9s\tremaining: 6.2s\n",
      "72:\tlearn: 0.0169698\ttest: 0.0134842\tbest: 0.0134835 (69)\ttotal: 16.1s\tremaining: 5.94s\n",
      "73:\tlearn: 0.0169671\ttest: 0.0134859\tbest: 0.0134835 (69)\ttotal: 16.3s\tremaining: 5.74s\n",
      "74:\tlearn: 0.0169647\ttest: 0.0134873\tbest: 0.0134835 (69)\ttotal: 16.7s\tremaining: 5.56s\n",
      "Stopped by overfitting detector  (5 iterations wait)\n",
      "\n",
      "bestTest = 0.01348348438\n",
      "bestIteration = 69\n",
      "\n",
      "Shrink model to first 70 iterations.\n"
     ]
    },
    {
     "data": {
      "text/plain": [
       "<catboost.core.CatBoostClassifier at 0x1fe2b33cad0>"
      ]
     },
     "execution_count": 11,
     "metadata": {},
     "output_type": "execute_result"
    }
   ],
   "source": [
    "cat_features = list(\n",
    "    X_train.select_dtypes(include=['string', 'object']).columns\n",
    ")\n",
    "\n",
    "pool_train = Pool(X_train, y_train, cat_features=cat_features)\n",
    "pool_val = Pool(X_val, y_val, cat_features=cat_features)\n",
    "\n",
    "model = CatBoostClassifier(\n",
    "    learning_rate=0.2,\n",
    "    iterations=100,\n",
    "    depth=10,\n",
    "    scale_pos_weight=10,\n",
    "    early_stopping_rounds=5,\n",
    "    use_best_model=True,\n",
    ")\n",
    "\n",
    "model.fit(\n",
    "    pool_train, \n",
    "    eval_set=pool_val,\n",
    ")"
   ]
  },
  {
   "cell_type": "markdown",
   "metadata": {},
   "source": [
    "## <span style=\"color:#ff5f27\">👮🏻‍♂️ Model Validation </span>\n",
    "\n",
    "Next, you'll evaluate how well the model performs on the validation data."
   ]
  },
  {
   "cell_type": "code",
   "execution_count": 12,
   "metadata": {},
   "outputs": [
    {
     "name": "stdout",
     "output_type": "stream",
     "text": [
      "              precision    recall  f1-score   support\n",
      "\n",
      "           0       1.00      1.00      1.00     20897\n",
      "           1       0.96      1.00      0.98      2019\n",
      "\n",
      "    accuracy                           1.00     22916\n",
      "   macro avg       0.98      1.00      0.99     22916\n",
      "weighted avg       1.00      1.00      1.00     22916\n",
      "\n"
     ]
    }
   ],
   "source": [
    "preds = model.predict(pool_val)\n",
    "\n",
    "precision, recall, fscore, _ = precision_recall_fscore_support(y_val, preds, average=\"binary\")\n",
    "\n",
    "metrics = {\n",
    "    \"precision\" : precision,\n",
    "    \"recall\" : recall,\n",
    "    \"fscore\" : fscore,\n",
    "}\n",
    "print(classification_report(y_val, preds))"
   ]
  },
  {
   "cell_type": "markdown",
   "metadata": {},
   "source": [
    "It can be seen that the model has a low F1-score on the positive class (higher is better). The performance could potentially be improved by adding more features to the dataset, e.g. image embeddings.\n",
    "\n",
    "Let's see which features your model considers important."
   ]
  },
  {
   "cell_type": "code",
   "execution_count": 13,
   "metadata": {},
   "outputs": [
    {
     "data": {
      "text/plain": [
       "{'trans_month_cos': 57.21420079190766,\n",
       " 'trans_month_sin': 38.21078315550941,\n",
       " 'garment_group_name': 0.9665549325124905,\n",
       " 'product_group_name': 0.9033111378551797,\n",
       " 'age': 0.869185063131642,\n",
       " 'perceived_colour_master_name': 0.4310532694175557,\n",
       " 'colour_group_name': 0.4171872303792953,\n",
       " 'index_name': 0.39352912952979635,\n",
       " 'perceived_colour_value_name': 0.27880771508017543,\n",
       " 'department_name': 0.16874477600478968,\n",
       " 'index_group_name': 0.0715768804041732,\n",
       " 'graphical_appearance_name': 0.049318704316874504,\n",
       " 'section_name': 0.025747213951008836,\n",
       " 'product_type_name': 0.0}"
      ]
     },
     "execution_count": 13,
     "metadata": {},
     "output_type": "execute_result"
    }
   ],
   "source": [
    "feat_to_score = {\n",
    "    feature: score \n",
    "    for feature, score \n",
    "    in zip(\n",
    "        X_train.columns, \n",
    "        model.feature_importances_,\n",
    "    )\n",
    "}\n",
    "\n",
    "feat_to_score = dict(\n",
    "    sorted(\n",
    "        feat_to_score.items(),\n",
    "        key=lambda item: item[1],\n",
    "        reverse=True,\n",
    "    )\n",
    ")\n",
    "feat_to_score"
   ]
  },
  {
   "cell_type": "markdown",
   "metadata": {},
   "source": [
    "It can be seen that the model places high importance on user and item embedding features. Consequently, better trained embeddings could yield a better ranking model.\n",
    "\n",
    "Finally, you'll save your model."
   ]
  },
  {
   "cell_type": "code",
   "execution_count": 14,
   "metadata": {},
   "outputs": [
    {
     "data": {
      "text/plain": [
       "['ranking_model.pkl']"
      ]
     },
     "execution_count": 14,
     "metadata": {},
     "output_type": "execute_result"
    }
   ],
   "source": [
    "joblib.dump(model, 'ranking_model.pkl')"
   ]
  },
  {
   "cell_type": "markdown",
   "metadata": {},
   "source": [
    "### <span style=\"color:#ff5f27\">💾  Upload Model to Model Registry </span>\n",
    "\n",
    "You'll upload the model to the Hopsworks Model Registry."
   ]
  },
  {
   "cell_type": "code",
   "execution_count": 15,
   "metadata": {},
   "outputs": [],
   "source": [
    "# Connect to Hopsworks Model Registry\n",
    "mr = project.get_model_registry()"
   ]
  },
  {
   "cell_type": "code",
   "execution_count": 16,
   "metadata": {},
   "outputs": [
    {
     "name": "stderr",
     "output_type": "stream",
     "text": [
      "Uploading: 100.000%|██████████| 454857/454857 elapsed<00:01 remaining<00:00  1.00it/s]\n",
      "Uploading: 100.000%|██████████| 468/468 elapsed<00:02 remaining<00:00<00:06,  1.65s/it]\n",
      "Model export complete: 100%|██████████| 6/6 [00:11<00:00,  1.93s/it]                   "
     ]
    },
    {
     "name": "stdout",
     "output_type": "stream",
     "text": [
      "Model created, explore it at https://c.app.hopsworks.ai:443/p/1218722/models/ranking_model/1\n"
     ]
    },
    {
     "name": "stderr",
     "output_type": "stream",
     "text": [
      "\n"
     ]
    },
    {
     "data": {
      "text/plain": [
       "Model(name: 'ranking_model', version: 1)"
      ]
     },
     "execution_count": 16,
     "metadata": {},
     "output_type": "execute_result"
    }
   ],
   "source": [
    "input_example = X_train.sample().to_dict(\"records\")\n",
    "                                         \n",
    "ranking_model = mr.python.create_model(\n",
    "    name=\"ranking_model\", \n",
    "    description=\"Ranking model that scores item candidates\",\n",
    "    version=1,\n",
    "    metrics=metrics,\n",
    "    feature_view=feature_view_ranking,\n",
    "    input_example=input_example,\n",
    ")\n",
    "ranking_model.save(\"ranking_model.pkl\")"
   ]
  },
  {
   "cell_type": "markdown",
   "metadata": {},
   "source": [
    "---"
   ]
  },
  {
   "cell_type": "code",
   "execution_count": 17,
   "metadata": {},
   "outputs": [
    {
     "name": "stdout",
     "output_type": "stream",
     "text": [
      "⌛️ Notebook Execution time: 123.09 seconds\n"
     ]
    }
   ],
   "source": [
    "# End the timer\n",
    "notebook_end_time = time.time()\n",
    "\n",
    "# Calculate and print the execution time\n",
    "notebook_execution_time = notebook_end_time - notebook_start_time\n",
    "print(f\"⌛️ Notebook Execution time: {notebook_execution_time:.2f} seconds\")"
   ]
  },
  {
   "cell_type": "markdown",
   "metadata": {},
   "source": [
    "---\n",
    "## <span style=\"color:#ff5f27\">⏩️ Next Steps </span>\n",
    "\n",
    "Now you have trained both a retrieval and a ranking model, which will allow you to generate recommendations for users. In the next notebook, you'll take a look at how you can deploy these models with the `HSML` library."
   ]
  }
 ],
 "metadata": {
  "kernelspec": {
   "display_name": "Python 3",
   "language": "python",
   "name": "python3"
  },
  "language_info": {
   "codemirror_mode": {
    "name": "ipython",
    "version": 3
   },
   "file_extension": ".py",
   "mimetype": "text/x-python",
   "name": "python",
   "nbconvert_exporter": "python",
   "pygments_lexer": "ipython3",
   "version": "3.11.7"
  }
 },
 "nbformat": 4,
 "nbformat_minor": 4
}
